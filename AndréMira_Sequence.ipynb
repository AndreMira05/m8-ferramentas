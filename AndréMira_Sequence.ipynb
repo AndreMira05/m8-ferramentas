{
 "cells": [
  {
   "cell_type": "code",
   "execution_count": 5,
   "id": "3ea03660-b3aa-45ef-b0ee-002edc5cd149",
   "metadata": {},
   "outputs": [
    {
     "name": "stdout",
     "output_type": "stream",
     "text": [
      "HIVI5C\n",
      "Human immunodeficiency virus 1 (HIV-1)\n",
      "catccagtacatgcagggcctattgcaccaggccaaatgagagaaccaaggggaagtgacatagcaggaactacaagtacccttcaggaacaagtagcatggatgacaggtaacccacctgttccagtgggagaaatctataaaagatggataattctgggattaaataaaatagtaagaatgtatagccctgtcagcattttggacataaaacaagggccaaaggaaccc\n"
     ]
    }
   ],
   "source": [
    "import re\n",
    "\n",
    "flag = False\n",
    "sequence = \"\"\n",
    "source = \"\"\n",
    "locusid = \"\"\n",
    "fonte = open(\"L42022.1.gb\",'r')\n",
    "for linha in fonte:\n",
    "    if re.search(r\"^LOCUS\", linha):\n",
    "        s= re.match(r\"^LOCUS\\s+([^ ]+)\", linha)\n",
    "        if s:\n",
    "            print( s.group(1) )\n",
    "            locusid = s.group(1)\n",
    "    if re.search(r\"^SOURCE\", linha):\n",
    "        s= re.match(r\"SOURCE\\s+(.+)\", linha)\n",
    "        if s:\n",
    "            print( s.group(1) )\n",
    "            source = s.group(1)\n",
    "    if re.search(r\"//\", linha):\n",
    "        flag = False\n",
    "    if flag:\n",
    "        # print(linha)\n",
    "        s = re.match(r\"\\s+\\d+ ([actg ]+)\", linha)\n",
    "        if s:\n",
    "            # print( s.group(1) )\n",
    "            sequence = sequence + s.group(1).replace(\" \", \"\")\n",
    "    if re.search(r\"ORIGIN\", linha):\n",
    "        flag = True\n",
    "fonte.close()\n",
    "print(sequence)"
   ]
  }
 ],
 "metadata": {
  "kernelspec": {
   "display_name": "Python 3 (ipykernel)",
   "language": "python",
   "name": "python3"
  },
  "language_info": {
   "codemirror_mode": {
    "name": "ipython",
    "version": 3
   },
   "file_extension": ".py",
   "mimetype": "text/x-python",
   "name": "python",
   "nbconvert_exporter": "python",
   "pygments_lexer": "ipython3",
   "version": "3.9.13"
  }
 },
 "nbformat": 4,
 "nbformat_minor": 5
}
